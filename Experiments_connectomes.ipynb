{
 "cells": [
  {
   "cell_type": "code",
   "execution_count": 1,
   "metadata": {},
   "outputs": [],
   "source": [
    "import math \n",
    "import os\n",
    "import re\n",
    "import pandas as pd\n",
    "import numpy as np\n",
    "import scipy\n",
    "import matplotlib.pyplot as plt\n",
    "import seaborn as sns\n",
    "import networkx as nx\n",
    "\n",
    "\n",
    "from concurrent.futures import ThreadPoolExecutor\n",
    "import logging\n",
    "from os import listdir\n",
    "from os.path import isfile, join\n",
    "from random import sample\n",
    "from scipy.spatial import distance\n",
    "from scipy.cluster import hierarchy as hc\n",
    "from scipy.linalg import sqrtm, block_diag, pinvh, eigh\n",
    "from numpy.linalg import inv, pinv\n",
    "from numpy.random import normal, poisson, randint\n",
    "from numpy import diagflat, eye, fill_diagonal, diag, sqrt, min, max\n",
    "from sklearn.utils import resample\n",
    "\n",
    "from aux_functions import *\n",
    "from utls import *\n",
    "from read_connectomes import *\n",
    "\n",
    "import mne\n",
    "import numpy as np\n",
    "from scipy.signal import hilbert\n",
    "from scipy.stats import pearsonr\n",
    "import networkx as nx\n",
    "import matplotlib.pyplot as plt\n"
   ]
  },
  {
   "cell_type": "markdown",
   "metadata": {},
   "source": [
    "# Experiments"
   ]
  },
  {
   "cell_type": "code",
   "execution_count": null,
   "metadata": {},
   "outputs": [],
   "source": [
    "#Read data\n",
    "setting = 'real_'\n",
    "Ns = 109\n",
    "runs = [6, 10, 14] # Motor imagery: left hand, right hand, both hands\n",
    "\n",
    "\n",
    "population_graphs = []\n",
    "for subject in range(1, Ns):\n",
    "    A, G = read_adj_matrix_envelope(subject, runs)\n",
    "    population_graphs.append(A)\n",
    "\n",
    "#Create projected and inverted GLs\n",
    "d = np.shape(A)[0]\n",
    "\n",
    "population = [] \n",
    "U = GenONbasisVec(d) #ON basis for projection of GL\n",
    "for p in population_graphs:\n",
    "    population.append(genGLFast(p, U)) #compute and project GL"
   ]
  },
  {
   "cell_type": "code",
   "execution_count": 3,
   "metadata": {},
   "outputs": [],
   "source": [
    "ind_to_keep = []\n",
    "for i in range(len(population)):\n",
    "    ev, evec = eigh(population[i])\n",
    "    if (np.min(ev) > 0):\n",
    "        ind_to_keep.append(i)\n",
    "\n",
    "population = [population[i] for i in ind_to_keep]"
   ]
  },
  {
   "cell_type": "code",
   "execution_count": null,
   "metadata": {},
   "outputs": [],
   "source": [
    "len(population)"
   ]
  },
  {
   "cell_type": "code",
   "execution_count": null,
   "metadata": {},
   "outputs": [],
   "source": [
    "# # Visualize the connectome graph\n",
    "# pos = nx.spring_layout(G, seed=42)  # Layout for the graph\n",
    "# plt.figure(figsize=(10, 10))\n",
    "# nx.draw_networkx_nodes(G, pos, node_size=70)\n",
    "# nx.draw_networkx_edges(G, pos, width=.2, alpha=0.6)\n",
    "# nx.draw_networkx_labels(G, pos, font_size=2, font_family='sans-serif')\n",
    "# plt.title(f'Connectome Graph (Subject {subject}, Envelope Correlation)')\n",
    "# plt.show()"
   ]
  },
  {
   "cell_type": "code",
   "execution_count": null,
   "metadata": {},
   "outputs": [],
   "source": []
  },
  {
   "cell_type": "code",
   "execution_count": 5,
   "metadata": {},
   "outputs": [],
   "source": [
    "#Initiate resampling parameters\n",
    "szs = [10, 50, 90] #sample size\n",
    "N = 100 #number of points to construct a curve\n",
    "M = 3  #number of bootstrap/asymptotic curves"
   ]
  },
  {
   "cell_type": "code",
   "execution_count": null,
   "metadata": {},
   "outputs": [],
   "source": [
    "#True distribution\n",
    "d = np.shape(bw)[0]\n",
    "\n",
    "boot_all = []\n",
    "true_all = []\n",
    "\n",
    "for n in szs:\n",
    "    print(n)\n",
    "    dist_true = []\n",
    "    for _ in range(1500):\n",
    "        sub_population = subsmple(population, n, repl = False)\n",
    "        M_emp  = Fbarycenter(sub_population)\n",
    "        bw_emp =  Wbarycenter(sub_population, init = M_emp)\n",
    "        dist_true.append(BW(bw_emp, bw) * np.sqrt(n))\n",
    "\n",
    "    true_all.append(dist_true)\n",
    "        \n",
    "    np.save(setting+'bw_true_d{0}_n{1}_M{2}_L_proj.npy'.format(d, n, M),dist_true)\n",
    "    # #bootstrap\n",
    "    stat_boot  = bootstrap(population, size = n, iters = M, boot_samples = N, model = \"Poisson\", setting = setting)\n",
    "    boot_all.append(stat_boot)\n",
    "\n",
    "\n",
    "# #asymptotic distribution\n",
    "# stat_asymp = asymptotic_statistics(population, size = n, iters = M, boot_samples = N, setting=setting)"
   ]
  },
  {
   "cell_type": "code",
   "execution_count": 7,
   "metadata": {},
   "outputs": [],
   "source": [
    "ecdfs_boot_all = []\n",
    "ecdfs_true_all = []\n",
    "m_all = []\n",
    "v_all = []\n",
    "for j in range(len(szs)):\n",
    "    dist_true = true_all[j]\n",
    "    stat_boot = boot_all[j]\n",
    "    \n",
    "    x_grd = find_grid(dist_true, stat_boot, stat_boot, steps = 100)\n",
    "\n",
    "    ecdfs_boot  = compute_ecdfs(stat_boot, x_grd)\n",
    "    ecdfs_boot_all.append(ecdfs_boot )\n",
    "    # ecdfs_asymp = compute_ecdfs(stat_asymp, x_grd)\n",
    "    ecdf_true = ecdf_on_grid(dist_true, x_grd)\n",
    "    ecdfs_true_all.append(ecdf_true)\n",
    "    # m_boot, v_boot = compute_KS_stat(ecdf_true, ecdfs_boot)\n",
    "    # m_all.append(m_boot)\n",
    "    # v_all.append(v_boot)\n",
    "    # m_asmp, v_asmp = compute_KS_stat(ecdf_true, ecdfs_asymp)\n",
    "\n",
    "\n",
    "    # print(m_boot, v_boot)\n",
    "    # print(m_asmp, v_asmp) "
   ]
  },
  {
   "cell_type": "code",
   "execution_count": 31,
   "metadata": {},
   "outputs": [],
   "source": [
    "# KS_var_asm = ceil_to_decimals(v_asmp , 3)\n",
    "# KS_mean_asm = ceil_to_decimals(m_asmp, 3)\n",
    "# KS_var_boot = ceil_to_decimals(v_boot, 3)  \n",
    "# KS_mean_boot = ceil_to_decimals(m_boot, 3)  "
   ]
  },
  {
   "cell_type": "markdown",
   "metadata": {},
   "source": [
    "# Plots"
   ]
  },
  {
   "cell_type": "code",
   "execution_count": null,
   "metadata": {},
   "outputs": [],
   "source": [
    "fig, axes = plt.subplots(1, 3, figsize=(16, 5))\n",
    "\n",
    "for j in range(len(szs)):\n",
    "\n",
    "    ecdfs_boot = ecdfs_boot_all[j]\n",
    "    for i in range(len(ecdfs_boot)):  \n",
    "        if (i == 1):\n",
    "            axes[j].plot(x_grd, ecdfs_boot[i], c='lightblue', alpha = .5, label=\"bootstrap\")\n",
    "        else:\n",
    "            axes[j].plot(x_grd, ecdfs_boot[i], c = 'lightblue', alpha = .5)\n",
    "            \n",
    "\n",
    "    ecdf_true = ecdfs_true_all[j]\n",
    "    axes[j].plot(x_grd, ecdf_true, c = 'blue', label='true', lw = 1.5)\n",
    "\n",
    "    axes[j].set_title(\"n = {0}\".format(szs[j]))\n",
    "    axes[j].set_xlabel(\"ECDFs\")\n",
    "    # axes[0].set_ylabel(\"sin(x)\")\n",
    "    axes[j].legend(loc='best')\n",
    "    axes[j].grid(True, which='both', linestyle='--', linewidth=0.5, alpha=0.5)  # Add pale grid\n",
    "    xlim1 = axes[j].get_xlim()\n",
    "    ylim1 = axes[j].get_ylim()\n",
    "\n",
    "    # Place text in the lower-right corner of the first plot\n",
    "    # axes[j].text(xlim1[1], ylim1[0], \"KS.mean = {0}\\nKS.var ={1}\".format(KS_mean_boot, KS_var_boot), fontsize=12, color='black', \n",
    "    #             ha='right', va='bottom')\n",
    "\n",
    "\n",
    "# for i in range(len(ecdfs_asymp)):  \n",
    "#     if (i == len(ecdfs_asymp) - 1):\n",
    "#         axes[1].plot(x_grd, ecdfs_asymp[i], c='orange', alpha = .5, label='asymp.')\n",
    "#     else:\n",
    "#         axes[1].plot(x_grd, ecdfs_asymp[i], c = 'orange', alpha = .5)\n",
    "\n",
    "# axes[1].plot(x_grd, ecdf_true, c = 'blue', label='true', lw = 1.5)\n",
    "# axes[1].set_title(\"Asymptotic\")\n",
    "# axes[1].set_xlabel(\"ECDFs\")\n",
    "# # axes[0].set_ylabel(\"sin(x)\")\n",
    "# axes[1].legend(loc='best')\n",
    "# axes[1].grid(True, which='both', linestyle='--', linewidth=0.5, alpha=0.5)  # Add pale grid\n",
    "\n",
    "# # Place text in the lower-right corner of the first plot\n",
    "# axes[1].text(xlim1[1], ylim1[0], \"KS.mean = {0}\\nKS.var ={1}\".format(KS_mean_asm, KS_var_asm), fontsize=12, color='black', \n",
    "#              ha='right', va='bottom')\n",
    "\n",
    "\n",
    "\n",
    "fig.suptitle(\"d = {0}\".format(d), fontsize=16)\n",
    "\n",
    "plt.savefig(setting+\"boot_cdfs_d={0}_n={1}_L_proj.png\".format(d, n), dpi=300)"
   ]
  }
 ],
 "metadata": {
  "kernelspec": {
   "display_name": "Python 3",
   "language": "python",
   "name": "python3"
  },
  "language_info": {
   "codemirror_mode": {
    "name": "ipython",
    "version": 3
   },
   "file_extension": ".py",
   "mimetype": "text/x-python",
   "name": "python",
   "nbconvert_exporter": "python",
   "pygments_lexer": "ipython3",
   "version": "3.8.6rc1"
  }
 },
 "nbformat": 4,
 "nbformat_minor": 4
}
